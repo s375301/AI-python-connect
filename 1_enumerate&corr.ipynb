{
  "nbformat": 4,
  "nbformat_minor": 0,
  "metadata": {
    "colab": {
      "name": "1-enumerate&corr.ipynb",
      "provenance": [],
      "collapsed_sections": [],
      "authorship_tag": "ABX9TyNcLihZaMjltq10e+26rjdk",
      "include_colab_link": true
    },
    "kernelspec": {
      "name": "python3",
      "display_name": "Python 3"
    },
    "language_info": {
      "name": "python"
    }
  },
  "cells": [
    {
      "cell_type": "markdown",
      "metadata": {
        "id": "view-in-github",
        "colab_type": "text"
      },
      "source": [
        "<a href=\"https://colab.research.google.com/github/s375301/AI-python-connect/blob/main/1_enumerate%26corr.ipynb\" target=\"_parent\"><img src=\"https://colab.research.google.com/assets/colab-badge.svg\" alt=\"Open In Colab\"/></a>"
      ]
    },
    {
      "cell_type": "code",
      "metadata": {
        "id": "FJtmryeA6vmd"
      },
      "source": [
        "import pandas as pd\n",
        "from pandas import Series\n",
        "from pandas import DataFrame\n",
        "\n",
        "import numpy as np"
      ],
      "execution_count": 1,
      "outputs": []
    },
    {
      "cell_type": "code",
      "metadata": {
        "colab": {
          "base_uri": "https://localhost:8080/",
          "height": 204
        },
        "id": "ec3j4XKw7Adi",
        "outputId": "c6f8cd87-b5fc-4f31-aa3e-ce396a03a7fe"
      },
      "source": [
        "df = pd.read_csv(\"/content/wages.csv\")\n",
        "df.head()"
      ],
      "execution_count": 4,
      "outputs": [
        {
          "output_type": "execute_result",
          "data": {
            "text/html": [
              "<div>\n",
              "<style scoped>\n",
              "    .dataframe tbody tr th:only-of-type {\n",
              "        vertical-align: middle;\n",
              "    }\n",
              "\n",
              "    .dataframe tbody tr th {\n",
              "        vertical-align: top;\n",
              "    }\n",
              "\n",
              "    .dataframe thead th {\n",
              "        text-align: right;\n",
              "    }\n",
              "</style>\n",
              "<table border=\"1\" class=\"dataframe\">\n",
              "  <thead>\n",
              "    <tr style=\"text-align: right;\">\n",
              "      <th></th>\n",
              "      <th>earn</th>\n",
              "      <th>height</th>\n",
              "      <th>sex</th>\n",
              "      <th>race</th>\n",
              "      <th>ed</th>\n",
              "      <th>age</th>\n",
              "    </tr>\n",
              "  </thead>\n",
              "  <tbody>\n",
              "    <tr>\n",
              "      <th>0</th>\n",
              "      <td>79571.299011</td>\n",
              "      <td>73.89</td>\n",
              "      <td>male</td>\n",
              "      <td>white</td>\n",
              "      <td>16</td>\n",
              "      <td>49</td>\n",
              "    </tr>\n",
              "    <tr>\n",
              "      <th>1</th>\n",
              "      <td>96396.988643</td>\n",
              "      <td>66.23</td>\n",
              "      <td>female</td>\n",
              "      <td>white</td>\n",
              "      <td>16</td>\n",
              "      <td>62</td>\n",
              "    </tr>\n",
              "    <tr>\n",
              "      <th>2</th>\n",
              "      <td>48710.666947</td>\n",
              "      <td>63.77</td>\n",
              "      <td>female</td>\n",
              "      <td>white</td>\n",
              "      <td>16</td>\n",
              "      <td>33</td>\n",
              "    </tr>\n",
              "    <tr>\n",
              "      <th>3</th>\n",
              "      <td>80478.096153</td>\n",
              "      <td>63.22</td>\n",
              "      <td>female</td>\n",
              "      <td>other</td>\n",
              "      <td>16</td>\n",
              "      <td>95</td>\n",
              "    </tr>\n",
              "    <tr>\n",
              "      <th>4</th>\n",
              "      <td>82089.345498</td>\n",
              "      <td>63.08</td>\n",
              "      <td>female</td>\n",
              "      <td>white</td>\n",
              "      <td>17</td>\n",
              "      <td>43</td>\n",
              "    </tr>\n",
              "  </tbody>\n",
              "</table>\n",
              "</div>"
            ],
            "text/plain": [
              "           earn  height     sex   race  ed  age\n",
              "0  79571.299011   73.89    male  white  16   49\n",
              "1  96396.988643   66.23  female  white  16   62\n",
              "2  48710.666947   63.77  female  white  16   33\n",
              "3  80478.096153   63.22  female  other  16   95\n",
              "4  82089.345498   63.08  female  white  17   43"
            ]
          },
          "metadata": {
            "tags": []
          },
          "execution_count": 4
        }
      ]
    },
    {
      "cell_type": "code",
      "metadata": {
        "colab": {
          "base_uri": "https://localhost:8080/",
          "height": 297
        },
        "id": "DhnabD-Q7Dw7",
        "outputId": "536769b2-944a-4b01-9472-836297c7d254"
      },
      "source": [
        "df.describe()"
      ],
      "execution_count": 5,
      "outputs": [
        {
          "output_type": "execute_result",
          "data": {
            "text/html": [
              "<div>\n",
              "<style scoped>\n",
              "    .dataframe tbody tr th:only-of-type {\n",
              "        vertical-align: middle;\n",
              "    }\n",
              "\n",
              "    .dataframe tbody tr th {\n",
              "        vertical-align: top;\n",
              "    }\n",
              "\n",
              "    .dataframe thead th {\n",
              "        text-align: right;\n",
              "    }\n",
              "</style>\n",
              "<table border=\"1\" class=\"dataframe\">\n",
              "  <thead>\n",
              "    <tr style=\"text-align: right;\">\n",
              "      <th></th>\n",
              "      <th>earn</th>\n",
              "      <th>height</th>\n",
              "      <th>ed</th>\n",
              "      <th>age</th>\n",
              "    </tr>\n",
              "  </thead>\n",
              "  <tbody>\n",
              "    <tr>\n",
              "      <th>count</th>\n",
              "      <td>1379.000000</td>\n",
              "      <td>1379.000000</td>\n",
              "      <td>1379.000000</td>\n",
              "      <td>1379.000000</td>\n",
              "    </tr>\n",
              "    <tr>\n",
              "      <th>mean</th>\n",
              "      <td>32446.292622</td>\n",
              "      <td>66.592640</td>\n",
              "      <td>13.354605</td>\n",
              "      <td>45.328499</td>\n",
              "    </tr>\n",
              "    <tr>\n",
              "      <th>std</th>\n",
              "      <td>31257.070006</td>\n",
              "      <td>3.818108</td>\n",
              "      <td>2.438741</td>\n",
              "      <td>15.789715</td>\n",
              "    </tr>\n",
              "    <tr>\n",
              "      <th>min</th>\n",
              "      <td>-98.580489</td>\n",
              "      <td>57.340000</td>\n",
              "      <td>3.000000</td>\n",
              "      <td>22.000000</td>\n",
              "    </tr>\n",
              "    <tr>\n",
              "      <th>25%</th>\n",
              "      <td>10538.790721</td>\n",
              "      <td>63.720000</td>\n",
              "      <td>12.000000</td>\n",
              "      <td>33.000000</td>\n",
              "    </tr>\n",
              "    <tr>\n",
              "      <th>50%</th>\n",
              "      <td>26877.870178</td>\n",
              "      <td>66.050000</td>\n",
              "      <td>13.000000</td>\n",
              "      <td>42.000000</td>\n",
              "    </tr>\n",
              "    <tr>\n",
              "      <th>75%</th>\n",
              "      <td>44506.215336</td>\n",
              "      <td>69.315000</td>\n",
              "      <td>15.000000</td>\n",
              "      <td>55.000000</td>\n",
              "    </tr>\n",
              "    <tr>\n",
              "      <th>max</th>\n",
              "      <td>317949.127955</td>\n",
              "      <td>77.210000</td>\n",
              "      <td>18.000000</td>\n",
              "      <td>95.000000</td>\n",
              "    </tr>\n",
              "  </tbody>\n",
              "</table>\n",
              "</div>"
            ],
            "text/plain": [
              "                earn       height           ed          age\n",
              "count    1379.000000  1379.000000  1379.000000  1379.000000\n",
              "mean    32446.292622    66.592640    13.354605    45.328499\n",
              "std     31257.070006     3.818108     2.438741    15.789715\n",
              "min       -98.580489    57.340000     3.000000    22.000000\n",
              "25%     10538.790721    63.720000    12.000000    33.000000\n",
              "50%     26877.870178    66.050000    13.000000    42.000000\n",
              "75%     44506.215336    69.315000    15.000000    55.000000\n",
              "max    317949.127955    77.210000    18.000000    95.000000"
            ]
          },
          "metadata": {
            "tags": []
          },
          "execution_count": 5
        }
      ]
    },
    {
      "cell_type": "code",
      "metadata": {
        "colab": {
          "base_uri": "https://localhost:8080/"
        },
        "id": "p4OP4esE8LcT",
        "outputId": "a9e07428-0066-4fa5-ac08-afcac85d4552"
      },
      "source": [
        "df.race.unique()"
      ],
      "execution_count": 6,
      "outputs": [
        {
          "output_type": "execute_result",
          "data": {
            "text/plain": [
              "array(['white', 'other', 'hispanic', 'black'], dtype=object)"
            ]
          },
          "metadata": {
            "tags": []
          },
          "execution_count": 6
        }
      ]
    },
    {
      "cell_type": "code",
      "metadata": {
        "id": "QzzoJ5Rw8N0K",
        "colab": {
          "base_uri": "https://localhost:8080/"
        },
        "outputId": "b25f21d7-cf63-4e2a-829d-e5caf27b2670"
      },
      "source": [
        "dict(enumerate(sorted(df[\"race\"].unique())))\n",
        "# enumerate() : indexed list를 만들 때 유용, 반복문에 의해 번호 부여 "
      ],
      "execution_count": 7,
      "outputs": [
        {
          "output_type": "execute_result",
          "data": {
            "text/plain": [
              "{0: 'black', 1: 'hispanic', 2: 'other', 3: 'white'}"
            ]
          },
          "metadata": {
            "tags": []
          },
          "execution_count": 7
        }
      ]
    },
    {
      "cell_type": "code",
      "metadata": {
        "colab": {
          "base_uri": "https://localhost:8080/"
        },
        "id": "T1di0q5Ace7v",
        "outputId": "2a62939f-57c0-4405-cc39-8bf3015e35e8"
      },
      "source": [
        "value = list(map(int, np.array(list(enumerate(df[\"race\"].unique())))[:, 0].tolist()))\n",
        "value"
      ],
      "execution_count": 16,
      "outputs": [
        {
          "output_type": "execute_result",
          "data": {
            "text/plain": [
              "[0, 1, 2, 3]"
            ]
          },
          "metadata": {
            "tags": []
          },
          "execution_count": 16
        }
      ]
    },
    {
      "cell_type": "code",
      "metadata": {
        "colab": {
          "base_uri": "https://localhost:8080/"
        },
        "id": "5_-UDWDWhm0i",
        "outputId": "98ad6148-3fc4-46b3-b7ab-bd33b12464b2"
      },
      "source": [
        "list(enumerate(df[\"race\"].unique()))"
      ],
      "execution_count": 9,
      "outputs": [
        {
          "output_type": "execute_result",
          "data": {
            "text/plain": [
              "[(0, 'white'), (1, 'other'), (2, 'hispanic'), (3, 'black')]"
            ]
          },
          "metadata": {
            "tags": []
          },
          "execution_count": 9
        }
      ]
    },
    {
      "cell_type": "code",
      "metadata": {
        "colab": {
          "base_uri": "https://localhost:8080/"
        },
        "id": "NpMxsxQVjJ3J",
        "outputId": "78da696f-e2d5-49e2-e17e-26c9248c2cf8"
      },
      "source": [
        "np.array(list(enumerate(df[\"race\"].unique())))\n",
        "# as 2 dim-matrix"
      ],
      "execution_count": 21,
      "outputs": [
        {
          "output_type": "execute_result",
          "data": {
            "text/plain": [
              "array([['0', 'white'],\n",
              "       ['1', 'other'],\n",
              "       ['2', 'hispanic'],\n",
              "       ['3', 'black']], dtype='<U21')"
            ]
          },
          "metadata": {
            "tags": []
          },
          "execution_count": 21
        }
      ]
    },
    {
      "cell_type": "code",
      "metadata": {
        "colab": {
          "base_uri": "https://localhost:8080/"
        },
        "id": "PvoBLhlhiR_t",
        "outputId": "9476c686-3486-48e4-9516-58bb74fdbbaa"
      },
      "source": [
        "np.array(list(enumerate(df[\"race\"].unique())))[:, 0]\n",
        "# dtype : str"
      ],
      "execution_count": 10,
      "outputs": [
        {
          "output_type": "execute_result",
          "data": {
            "text/plain": [
              "array(['0', '1', '2', '3'], dtype='<U21')"
            ]
          },
          "metadata": {
            "tags": []
          },
          "execution_count": 10
        }
      ]
    },
    {
      "cell_type": "code",
      "metadata": {
        "colab": {
          "base_uri": "https://localhost:8080/"
        },
        "id": "8q7l-X5CiUyF",
        "outputId": "df609436-c8bd-4d55-f5d4-d919be8c7979"
      },
      "source": [
        "list(map(int, np.array(list(enumerate(df[\"race\"].unique())))[:, 0].tolist()))\n",
        "# dtype : int"
      ],
      "execution_count": 18,
      "outputs": [
        {
          "output_type": "execute_result",
          "data": {
            "text/plain": [
              "[0, 1, 2, 3]"
            ]
          },
          "metadata": {
            "tags": []
          },
          "execution_count": 18
        }
      ]
    },
    {
      "cell_type": "code",
      "metadata": {
        "colab": {
          "base_uri": "https://localhost:8080/"
        },
        "id": "VrlKs4FviYG8",
        "outputId": "f896d24e-882e-4a04-e36d-6b45b41f712e"
      },
      "source": [
        "key = np.array(list(enumerate(df[\"sex\"].unique())), dtype=str)[:, 1].tolist()\n",
        "key"
      ],
      "execution_count": 23,
      "outputs": [
        {
          "output_type": "execute_result",
          "data": {
            "text/plain": [
              "['male', 'female']"
            ]
          },
          "metadata": {
            "tags": []
          },
          "execution_count": 23
        }
      ]
    },
    {
      "cell_type": "code",
      "metadata": {
        "colab": {
          "base_uri": "https://localhost:8080/"
        },
        "id": "aG5pvMEwjeIi",
        "outputId": "9fef1b3a-05e1-4445-c093-0b818d7a807d"
      },
      "source": [
        "value = list(map(int, np.array(list(enumerate(df[\"sex\"].unique())))[:, 0].tolist())) # value needs to be dtype \"int\" : solved by map()\n",
        "key = np.array(list(enumerate(df[\"sex\"].unique())), dtype=str)[:, 1].tolist()\n",
        "value, key"
      ],
      "execution_count": 25,
      "outputs": [
        {
          "output_type": "execute_result",
          "data": {
            "text/plain": [
              "([0, 1], ['male', 'female'])"
            ]
          },
          "metadata": {
            "tags": []
          },
          "execution_count": 25
        }
      ]
    },
    {
      "cell_type": "code",
      "metadata": {
        "colab": {
          "base_uri": "https://localhost:8080/",
          "height": 204
        },
        "id": "RsjGz5jyjp9f",
        "outputId": "bc533f78-bf0b-4ed0-e9a6-2b4c428b57ba"
      },
      "source": [
        "df[\"sex\"].replace(to_replace=key, value=value, inplace=True) # inplace argument to edit original\n",
        "df.head()"
      ],
      "execution_count": 26,
      "outputs": [
        {
          "output_type": "execute_result",
          "data": {
            "text/html": [
              "<div>\n",
              "<style scoped>\n",
              "    .dataframe tbody tr th:only-of-type {\n",
              "        vertical-align: middle;\n",
              "    }\n",
              "\n",
              "    .dataframe tbody tr th {\n",
              "        vertical-align: top;\n",
              "    }\n",
              "\n",
              "    .dataframe thead th {\n",
              "        text-align: right;\n",
              "    }\n",
              "</style>\n",
              "<table border=\"1\" class=\"dataframe\">\n",
              "  <thead>\n",
              "    <tr style=\"text-align: right;\">\n",
              "      <th></th>\n",
              "      <th>earn</th>\n",
              "      <th>height</th>\n",
              "      <th>sex</th>\n",
              "      <th>race</th>\n",
              "      <th>ed</th>\n",
              "      <th>age</th>\n",
              "    </tr>\n",
              "  </thead>\n",
              "  <tbody>\n",
              "    <tr>\n",
              "      <th>0</th>\n",
              "      <td>79571.299011</td>\n",
              "      <td>73.89</td>\n",
              "      <td>0</td>\n",
              "      <td>white</td>\n",
              "      <td>16</td>\n",
              "      <td>49</td>\n",
              "    </tr>\n",
              "    <tr>\n",
              "      <th>1</th>\n",
              "      <td>96396.988643</td>\n",
              "      <td>66.23</td>\n",
              "      <td>1</td>\n",
              "      <td>white</td>\n",
              "      <td>16</td>\n",
              "      <td>62</td>\n",
              "    </tr>\n",
              "    <tr>\n",
              "      <th>2</th>\n",
              "      <td>48710.666947</td>\n",
              "      <td>63.77</td>\n",
              "      <td>1</td>\n",
              "      <td>white</td>\n",
              "      <td>16</td>\n",
              "      <td>33</td>\n",
              "    </tr>\n",
              "    <tr>\n",
              "      <th>3</th>\n",
              "      <td>80478.096153</td>\n",
              "      <td>63.22</td>\n",
              "      <td>1</td>\n",
              "      <td>other</td>\n",
              "      <td>16</td>\n",
              "      <td>95</td>\n",
              "    </tr>\n",
              "    <tr>\n",
              "      <th>4</th>\n",
              "      <td>82089.345498</td>\n",
              "      <td>63.08</td>\n",
              "      <td>1</td>\n",
              "      <td>white</td>\n",
              "      <td>17</td>\n",
              "      <td>43</td>\n",
              "    </tr>\n",
              "  </tbody>\n",
              "</table>\n",
              "</div>"
            ],
            "text/plain": [
              "           earn  height  sex   race  ed  age\n",
              "0  79571.299011   73.89    0  white  16   49\n",
              "1  96396.988643   66.23    1  white  16   62\n",
              "2  48710.666947   63.77    1  white  16   33\n",
              "3  80478.096153   63.22    1  other  16   95\n",
              "4  82089.345498   63.08    1  white  17   43"
            ]
          },
          "metadata": {
            "tags": []
          },
          "execution_count": 26
        }
      ]
    },
    {
      "cell_type": "code",
      "metadata": {
        "colab": {
          "base_uri": "https://localhost:8080/"
        },
        "id": "OR7Ej3QqkPtI",
        "outputId": "b774521c-2d5d-4ab4-e439-864480c7747f"
      },
      "source": [
        "df.sum(axis=0)"
      ],
      "execution_count": 27,
      "outputs": [
        {
          "output_type": "execute_result",
          "data": {
            "text/plain": [
              "earn                                            4.47434e+07\n",
              "height                                              91831.2\n",
              "sex                                                     859\n",
              "race      whitewhitewhiteotherwhitewhitewhitewhitehispan...\n",
              "ed                                                    18416\n",
              "age                                                   62508\n",
              "dtype: object"
            ]
          },
          "metadata": {
            "tags": []
          },
          "execution_count": 27
        }
      ]
    },
    {
      "cell_type": "code",
      "metadata": {
        "colab": {
          "base_uri": "https://localhost:8080/"
        },
        "id": "-LtBH31jkT0f",
        "outputId": "9a7327a7-f7ad-4377-e4cf-75d66610c67c"
      },
      "source": [
        "df.sum(axis=1)"
      ],
      "execution_count": 28,
      "outputs": [
        {
          "output_type": "execute_result",
          "data": {
            "text/plain": [
              "0       79710.189011\n",
              "1       96542.218643\n",
              "2       48824.436947\n",
              "3       80653.316153\n",
              "4       82213.425498\n",
              "            ...     \n",
              "1374    30290.060363\n",
              "1375    25019.829514\n",
              "1376    13824.311312\n",
              "1377    95563.664410\n",
              "1378     9686.681857\n",
              "Length: 1379, dtype: float64"
            ]
          },
          "metadata": {
            "tags": []
          },
          "execution_count": 28
        }
      ]
    },
    {
      "cell_type": "code",
      "metadata": {
        "colab": {
          "base_uri": "https://localhost:8080/",
          "height": 419
        },
        "id": "_EAMjNT-kV25",
        "outputId": "2e4215e7-2d84-44a4-8942-c234d643d6c2"
      },
      "source": [
        "df.isnull()"
      ],
      "execution_count": 29,
      "outputs": [
        {
          "output_type": "execute_result",
          "data": {
            "text/html": [
              "<div>\n",
              "<style scoped>\n",
              "    .dataframe tbody tr th:only-of-type {\n",
              "        vertical-align: middle;\n",
              "    }\n",
              "\n",
              "    .dataframe tbody tr th {\n",
              "        vertical-align: top;\n",
              "    }\n",
              "\n",
              "    .dataframe thead th {\n",
              "        text-align: right;\n",
              "    }\n",
              "</style>\n",
              "<table border=\"1\" class=\"dataframe\">\n",
              "  <thead>\n",
              "    <tr style=\"text-align: right;\">\n",
              "      <th></th>\n",
              "      <th>earn</th>\n",
              "      <th>height</th>\n",
              "      <th>sex</th>\n",
              "      <th>race</th>\n",
              "      <th>ed</th>\n",
              "      <th>age</th>\n",
              "    </tr>\n",
              "  </thead>\n",
              "  <tbody>\n",
              "    <tr>\n",
              "      <th>0</th>\n",
              "      <td>False</td>\n",
              "      <td>False</td>\n",
              "      <td>False</td>\n",
              "      <td>False</td>\n",
              "      <td>False</td>\n",
              "      <td>False</td>\n",
              "    </tr>\n",
              "    <tr>\n",
              "      <th>1</th>\n",
              "      <td>False</td>\n",
              "      <td>False</td>\n",
              "      <td>False</td>\n",
              "      <td>False</td>\n",
              "      <td>False</td>\n",
              "      <td>False</td>\n",
              "    </tr>\n",
              "    <tr>\n",
              "      <th>2</th>\n",
              "      <td>False</td>\n",
              "      <td>False</td>\n",
              "      <td>False</td>\n",
              "      <td>False</td>\n",
              "      <td>False</td>\n",
              "      <td>False</td>\n",
              "    </tr>\n",
              "    <tr>\n",
              "      <th>3</th>\n",
              "      <td>False</td>\n",
              "      <td>False</td>\n",
              "      <td>False</td>\n",
              "      <td>False</td>\n",
              "      <td>False</td>\n",
              "      <td>False</td>\n",
              "    </tr>\n",
              "    <tr>\n",
              "      <th>4</th>\n",
              "      <td>False</td>\n",
              "      <td>False</td>\n",
              "      <td>False</td>\n",
              "      <td>False</td>\n",
              "      <td>False</td>\n",
              "      <td>False</td>\n",
              "    </tr>\n",
              "    <tr>\n",
              "      <th>...</th>\n",
              "      <td>...</td>\n",
              "      <td>...</td>\n",
              "      <td>...</td>\n",
              "      <td>...</td>\n",
              "      <td>...</td>\n",
              "      <td>...</td>\n",
              "    </tr>\n",
              "    <tr>\n",
              "      <th>1374</th>\n",
              "      <td>False</td>\n",
              "      <td>False</td>\n",
              "      <td>False</td>\n",
              "      <td>False</td>\n",
              "      <td>False</td>\n",
              "      <td>False</td>\n",
              "    </tr>\n",
              "    <tr>\n",
              "      <th>1375</th>\n",
              "      <td>False</td>\n",
              "      <td>False</td>\n",
              "      <td>False</td>\n",
              "      <td>False</td>\n",
              "      <td>False</td>\n",
              "      <td>False</td>\n",
              "    </tr>\n",
              "    <tr>\n",
              "      <th>1376</th>\n",
              "      <td>False</td>\n",
              "      <td>False</td>\n",
              "      <td>False</td>\n",
              "      <td>False</td>\n",
              "      <td>False</td>\n",
              "      <td>False</td>\n",
              "    </tr>\n",
              "    <tr>\n",
              "      <th>1377</th>\n",
              "      <td>False</td>\n",
              "      <td>False</td>\n",
              "      <td>False</td>\n",
              "      <td>False</td>\n",
              "      <td>False</td>\n",
              "      <td>False</td>\n",
              "    </tr>\n",
              "    <tr>\n",
              "      <th>1378</th>\n",
              "      <td>False</td>\n",
              "      <td>False</td>\n",
              "      <td>False</td>\n",
              "      <td>False</td>\n",
              "      <td>False</td>\n",
              "      <td>False</td>\n",
              "    </tr>\n",
              "  </tbody>\n",
              "</table>\n",
              "<p>1379 rows × 6 columns</p>\n",
              "</div>"
            ],
            "text/plain": [
              "       earn  height    sex   race     ed    age\n",
              "0     False   False  False  False  False  False\n",
              "1     False   False  False  False  False  False\n",
              "2     False   False  False  False  False  False\n",
              "3     False   False  False  False  False  False\n",
              "4     False   False  False  False  False  False\n",
              "...     ...     ...    ...    ...    ...    ...\n",
              "1374  False   False  False  False  False  False\n",
              "1375  False   False  False  False  False  False\n",
              "1376  False   False  False  False  False  False\n",
              "1377  False   False  False  False  False  False\n",
              "1378  False   False  False  False  False  False\n",
              "\n",
              "[1379 rows x 6 columns]"
            ]
          },
          "metadata": {
            "tags": []
          },
          "execution_count": 29
        }
      ]
    },
    {
      "cell_type": "code",
      "metadata": {
        "colab": {
          "base_uri": "https://localhost:8080/"
        },
        "id": "gNj7IKlhkb-B",
        "outputId": "c4ac01f7-441f-45eb-dfda-b1bfc94964a0"
      },
      "source": [
        "df.isnull().sum(0) # True = 1, 0 stands for axis"
      ],
      "execution_count": 30,
      "outputs": [
        {
          "output_type": "execute_result",
          "data": {
            "text/plain": [
              "earn      0\n",
              "height    0\n",
              "sex       0\n",
              "race      0\n",
              "ed        0\n",
              "age       0\n",
              "dtype: int64"
            ]
          },
          "metadata": {
            "tags": []
          },
          "execution_count": 30
        }
      ]
    },
    {
      "cell_type": "code",
      "metadata": {
        "colab": {
          "base_uri": "https://localhost:8080/",
          "height": 204
        },
        "id": "jPx5ZwF0kjIQ",
        "outputId": "01f39ae5-f039-4314-8e70-e5534301162a"
      },
      "source": [
        "df.sort_values([\"age\", \"earn\"], ascending=False).head() # desc, elder age then higher income"
      ],
      "execution_count": 31,
      "outputs": [
        {
          "output_type": "execute_result",
          "data": {
            "text/html": [
              "<div>\n",
              "<style scoped>\n",
              "    .dataframe tbody tr th:only-of-type {\n",
              "        vertical-align: middle;\n",
              "    }\n",
              "\n",
              "    .dataframe tbody tr th {\n",
              "        vertical-align: top;\n",
              "    }\n",
              "\n",
              "    .dataframe thead th {\n",
              "        text-align: right;\n",
              "    }\n",
              "</style>\n",
              "<table border=\"1\" class=\"dataframe\">\n",
              "  <thead>\n",
              "    <tr style=\"text-align: right;\">\n",
              "      <th></th>\n",
              "      <th>earn</th>\n",
              "      <th>height</th>\n",
              "      <th>sex</th>\n",
              "      <th>race</th>\n",
              "      <th>ed</th>\n",
              "      <th>age</th>\n",
              "    </tr>\n",
              "  </thead>\n",
              "  <tbody>\n",
              "    <tr>\n",
              "      <th>3</th>\n",
              "      <td>80478.096153</td>\n",
              "      <td>63.22</td>\n",
              "      <td>1</td>\n",
              "      <td>other</td>\n",
              "      <td>16</td>\n",
              "      <td>95</td>\n",
              "    </tr>\n",
              "    <tr>\n",
              "      <th>809</th>\n",
              "      <td>42963.362005</td>\n",
              "      <td>72.94</td>\n",
              "      <td>0</td>\n",
              "      <td>white</td>\n",
              "      <td>12</td>\n",
              "      <td>95</td>\n",
              "    </tr>\n",
              "    <tr>\n",
              "      <th>331</th>\n",
              "      <td>39169.750135</td>\n",
              "      <td>64.79</td>\n",
              "      <td>1</td>\n",
              "      <td>white</td>\n",
              "      <td>12</td>\n",
              "      <td>95</td>\n",
              "    </tr>\n",
              "    <tr>\n",
              "      <th>102</th>\n",
              "      <td>39751.194030</td>\n",
              "      <td>67.14</td>\n",
              "      <td>0</td>\n",
              "      <td>white</td>\n",
              "      <td>12</td>\n",
              "      <td>93</td>\n",
              "    </tr>\n",
              "    <tr>\n",
              "      <th>993</th>\n",
              "      <td>32809.632677</td>\n",
              "      <td>59.61</td>\n",
              "      <td>1</td>\n",
              "      <td>other</td>\n",
              "      <td>16</td>\n",
              "      <td>92</td>\n",
              "    </tr>\n",
              "  </tbody>\n",
              "</table>\n",
              "</div>"
            ],
            "text/plain": [
              "             earn  height  sex   race  ed  age\n",
              "3    80478.096153   63.22    1  other  16   95\n",
              "809  42963.362005   72.94    0  white  12   95\n",
              "331  39169.750135   64.79    1  white  12   95\n",
              "102  39751.194030   67.14    0  white  12   93\n",
              "993  32809.632677   59.61    1  other  16   92"
            ]
          },
          "metadata": {
            "tags": []
          },
          "execution_count": 31
        }
      ]
    },
    {
      "cell_type": "code",
      "metadata": {
        "colab": {
          "base_uri": "https://localhost:8080/"
        },
        "id": "OC5YKc_Wksxo",
        "outputId": "ba878ad5-1092-47a5-e3ec-0f637de5d2f8"
      },
      "source": [
        "df.age.corr(df.earn) # correlation btw age and income"
      ],
      "execution_count": 32,
      "outputs": [
        {
          "output_type": "execute_result",
          "data": {
            "text/plain": [
              "0.07400349177836055"
            ]
          },
          "metadata": {
            "tags": []
          },
          "execution_count": 32
        }
      ]
    },
    {
      "cell_type": "code",
      "metadata": {
        "colab": {
          "base_uri": "https://localhost:8080/"
        },
        "id": "TerX3q7xk-Ti",
        "outputId": "56bb35b9-8279-4635-cad8-34b3fb52747a"
      },
      "source": [
        "df.age[(df.age<45) & (df.age>15)].corr(df.earn)"
      ],
      "execution_count": 33,
      "outputs": [
        {
          "output_type": "execute_result",
          "data": {
            "text/plain": [
              "0.3141178872518905"
            ]
          },
          "metadata": {
            "tags": []
          },
          "execution_count": 33
        }
      ]
    },
    {
      "cell_type": "code",
      "metadata": {
        "colab": {
          "base_uri": "https://localhost:8080/"
        },
        "id": "MVCkCEFZlNb8",
        "outputId": "c58e6587-e12c-438b-bf26-f62f40bea5f3"
      },
      "source": [
        "df.age.cov(df.earn)"
      ],
      "execution_count": 34,
      "outputs": [
        {
          "output_type": "execute_result",
          "data": {
            "text/plain": [
              "36523.6992104089"
            ]
          },
          "metadata": {
            "tags": []
          },
          "execution_count": 34
        }
      ]
    },
    {
      "cell_type": "code",
      "metadata": {
        "colab": {
          "base_uri": "https://localhost:8080/",
          "height": 204
        },
        "id": "Ti0B4ApElVEk",
        "outputId": "e258dc3c-9169-4e99-bbf0-75f0f59055d0"
      },
      "source": [
        "df.corr()"
      ],
      "execution_count": 35,
      "outputs": [
        {
          "output_type": "execute_result",
          "data": {
            "text/html": [
              "<div>\n",
              "<style scoped>\n",
              "    .dataframe tbody tr th:only-of-type {\n",
              "        vertical-align: middle;\n",
              "    }\n",
              "\n",
              "    .dataframe tbody tr th {\n",
              "        vertical-align: top;\n",
              "    }\n",
              "\n",
              "    .dataframe thead th {\n",
              "        text-align: right;\n",
              "    }\n",
              "</style>\n",
              "<table border=\"1\" class=\"dataframe\">\n",
              "  <thead>\n",
              "    <tr style=\"text-align: right;\">\n",
              "      <th></th>\n",
              "      <th>earn</th>\n",
              "      <th>height</th>\n",
              "      <th>sex</th>\n",
              "      <th>ed</th>\n",
              "      <th>age</th>\n",
              "    </tr>\n",
              "  </thead>\n",
              "  <tbody>\n",
              "    <tr>\n",
              "      <th>earn</th>\n",
              "      <td>1.000000</td>\n",
              "      <td>0.291600</td>\n",
              "      <td>-0.337328</td>\n",
              "      <td>0.350374</td>\n",
              "      <td>0.074003</td>\n",
              "    </tr>\n",
              "    <tr>\n",
              "      <th>height</th>\n",
              "      <td>0.291600</td>\n",
              "      <td>1.000000</td>\n",
              "      <td>-0.703672</td>\n",
              "      <td>0.114047</td>\n",
              "      <td>-0.133727</td>\n",
              "    </tr>\n",
              "    <tr>\n",
              "      <th>sex</th>\n",
              "      <td>-0.337328</td>\n",
              "      <td>-0.703672</td>\n",
              "      <td>1.000000</td>\n",
              "      <td>-0.061747</td>\n",
              "      <td>0.070036</td>\n",
              "    </tr>\n",
              "    <tr>\n",
              "      <th>ed</th>\n",
              "      <td>0.350374</td>\n",
              "      <td>0.114047</td>\n",
              "      <td>-0.061747</td>\n",
              "      <td>1.000000</td>\n",
              "      <td>-0.129802</td>\n",
              "    </tr>\n",
              "    <tr>\n",
              "      <th>age</th>\n",
              "      <td>0.074003</td>\n",
              "      <td>-0.133727</td>\n",
              "      <td>0.070036</td>\n",
              "      <td>-0.129802</td>\n",
              "      <td>1.000000</td>\n",
              "    </tr>\n",
              "  </tbody>\n",
              "</table>\n",
              "</div>"
            ],
            "text/plain": [
              "            earn    height       sex        ed       age\n",
              "earn    1.000000  0.291600 -0.337328  0.350374  0.074003\n",
              "height  0.291600  1.000000 -0.703672  0.114047 -0.133727\n",
              "sex    -0.337328 -0.703672  1.000000 -0.061747  0.070036\n",
              "ed      0.350374  0.114047 -0.061747  1.000000 -0.129802\n",
              "age     0.074003 -0.133727  0.070036 -0.129802  1.000000"
            ]
          },
          "metadata": {
            "tags": []
          },
          "execution_count": 35
        }
      ]
    },
    {
      "cell_type": "code",
      "metadata": {
        "colab": {
          "base_uri": "https://localhost:8080/"
        },
        "id": "FhhHgYeqlYfF",
        "outputId": "5d1cca21-d694-4d1c-e054-4e927e1e9eb9"
      },
      "source": [
        "df.corrwith(df.earn)"
      ],
      "execution_count": 36,
      "outputs": [
        {
          "output_type": "execute_result",
          "data": {
            "text/plain": [
              "earn      1.000000\n",
              "height    0.291600\n",
              "sex      -0.337328\n",
              "ed        0.350374\n",
              "age       0.074003\n",
              "dtype: float64"
            ]
          },
          "metadata": {
            "tags": []
          },
          "execution_count": 36
        }
      ]
    },
    {
      "cell_type": "code",
      "metadata": {
        "colab": {
          "base_uri": "https://localhost:8080/"
        },
        "id": "NPsfOJDXlc_6",
        "outputId": "35346ed3-661d-4361-ddce-571503e88b51"
      },
      "source": [
        "df.sex.value_counts(sort=True)"
      ],
      "execution_count": 37,
      "outputs": [
        {
          "output_type": "execute_result",
          "data": {
            "text/plain": [
              "1    859\n",
              "0    520\n",
              "Name: sex, dtype: int64"
            ]
          },
          "metadata": {
            "tags": []
          },
          "execution_count": 37
        }
      ]
    }
  ]
}